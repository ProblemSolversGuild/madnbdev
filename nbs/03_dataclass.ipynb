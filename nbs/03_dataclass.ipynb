{
 "cells": [
  {
   "cell_type": "code",
   "execution_count": null,
   "id": "5742bfba-78a2-4190-a2c6-d5e367c9f66c",
   "metadata": {},
   "outputs": [],
   "source": [
    "#| default_exp dataclass"
   ]
  },
  {
   "cell_type": "markdown",
   "id": "ae9983c9-f882-46b1-bd10-ce7b5aa5c509",
   "metadata": {},
   "source": [
    "# dataclass\n",
    "> An attempt to simplify a data"
   ]
  },
  {
   "cell_type": "code",
   "execution_count": null,
   "id": "cd46cc05-1b9f-49e3-85fe-adf34812cd5a",
   "metadata": {},
   "outputs": [],
   "source": [
    "from dataclasses import dataclass\n",
    "\n",
    "@dataclass\n",
    "class SizeRule:\n",
    "    rule_name: str\n",
    "    max_size: float\n",
    "    min_size: float\n",
    "    actual_size: float\n",
    "\n",
    "    def check_rule(self) -> bool:\n",
    "        return self.min_size <= self.actual_size <= self.max_size\n",
    "\n",
    "@dataclass\n",
    "class ColorRule:\n",
    "    rule_name: str\n",
    "    should_be_red: bool\n",
    "    should_be_white: bool\n",
    "    actual_color: str\n",
    "\n",
    "    def check_rule(self) -> bool:\n",
    "        return (self.should_be_red and self.actual_color == \"red\") or (self.should_be_white and self.actual_color == \"white\")\n",
    "\n",
    "@dataclass\n",
    "class Result:\n",
    "    rules: list\n",
    "\n",
    "    @property\n",
    "    def overall_pass(self) -> bool:\n",
    "        return all(rule.check_rule() for rule in self.rules)"
   ]
  },
  {
   "cell_type": "code",
   "execution_count": null,
   "id": "830333b4-c5d0-458f-9f7c-ef01af8209de",
   "metadata": {},
   "outputs": [
    {
     "name": "stdout",
     "output_type": "stream",
     "text": [
      "Overall Pass: False\n",
      "Individual Rule Results:\n",
      "Rule: Size Rule, Passed: True\n",
      "Rule: Color Rule, Passed: True\n",
      "Rule: Color Rule, Passed: False\n"
     ]
    }
   ],
   "source": [
    "# Example usage\n",
    "size_rule = SizeRule(\"Size Rule\", 5.0, 1.0, 3.0)\n",
    "color_rule1 = ColorRule(\"Color Rule\", True, False, \"red\")\n",
    "color_rule2 = ColorRule(\"Color Rule\", True, False, \"purple\")\n",
    "\n",
    "\n",
    "rules = [size_rule, color_rule1, color_rule2]\n",
    "\n",
    "results = Result(rules)\n",
    "\n",
    "print(\"Overall Pass:\", results.overall_pass)\n",
    "print(\"Individual Rule Results:\")\n",
    "for rule in results.rules:\n",
    "    print(f\"Rule: {rule.rule_name}, Passed: {rule.check_rule()}\")"
   ]
  },
  {
   "cell_type": "code",
   "execution_count": null,
   "id": "d0b3cbb7-b783-4713-b6c2-f3d936e9db4a",
   "metadata": {},
   "outputs": [],
   "source": [
    "#| hide\n",
    "import nbdev; nbdev.nbdev_export()"
   ]
  },
  {
   "cell_type": "code",
   "execution_count": null,
   "id": "294435dd-dbf1-4568-bb1d-6584a561a709",
   "metadata": {},
   "outputs": [],
   "source": []
  }
 ],
 "metadata": {
  "kernelspec": {
   "display_name": "python3",
   "language": "python",
   "name": "python3"
  }
 },
 "nbformat": 4,
 "nbformat_minor": 5
}
