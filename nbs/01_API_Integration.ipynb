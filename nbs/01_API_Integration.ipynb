{
 "cells": [
  {
   "cell_type": "markdown",
   "metadata": {},
   "source": [
    "# Testing with nbdev\n",
    "\n",
    "> Highlighting some key ideas of nbdev"
   ]
  },
  {
   "cell_type": "markdown",
   "metadata": {},
   "source": [
    "One of the nice features that can be useful with nbdev is the ability to add tests inside of the notebooks. This occurs as just another cell and I will demonstrate it below"
   ]
  },
  {
   "cell_type": "code",
   "execution_count": null,
   "metadata": {},
   "outputs": [],
   "source": [
    "#| default_exp agent"
   ]
  },
  {
   "cell_type": "code",
   "execution_count": null,
   "metadata": {},
   "outputs": [],
   "source": [
    "#| export\n",
    "import datetime\n",
    "import os\n",
    "import openai\n",
    "from fastcore.basics import store_attr\n",
    "from fastcore.test import test_eq"
   ]
  },
  {
   "cell_type": "code",
   "execution_count": null,
   "metadata": {},
   "outputs": [],
   "source": [
    "#| export \n",
    "openai.api_key = os.environ['OPENAI_API_KEY']\n",
    "model_engine = \"gpt-3.5-turbo\""
   ]
  },
  {
   "cell_type": "code",
   "execution_count": null,
   "metadata": {},
   "outputs": [],
   "source": [
    "#| export\n",
    "from enum import Enum"
   ]
  },
  {
   "cell_type": "code",
   "execution_count": null,
   "metadata": {},
   "outputs": [],
   "source": [
    "#| export\n",
    "class Role(Enum):\n",
    "    \"This corresponds to the roles that openai allows for the ChatGPT API\"\n",
    "    SYSTEM = \"system\"\n",
    "    USER = \"user\"\n",
    "    ASSISTANT = \"assistant\"\n",
    "    FUNCTION = \"function\""
   ]
  },
  {
   "cell_type": "code",
   "execution_count": null,
   "metadata": {},
   "outputs": [],
   "source": [
    "#| export\n",
    "def create_message(role_type:Role, # Whether this message is the system, user, or assistant talking\n",
    "                   content:str # A string that can be used \n",
    "                  ):\n",
    "    return {\"role\":role_type.value, \"content\": content}"
   ]
  },
  {
   "cell_type": "code",
   "execution_count": null,
   "metadata": {},
   "outputs": [],
   "source": [
    "messages = []"
   ]
  },
  {
   "cell_type": "code",
   "execution_count": null,
   "metadata": {},
   "outputs": [],
   "source": [
    "messages.append(create_message(Role.SYSTEM, \"You are the organizer of a cool meetup about python. You are trying to get the meetup to end early so you can go grab a drink\"))"
   ]
  },
  {
   "cell_type": "code",
   "execution_count": null,
   "metadata": {},
   "outputs": [],
   "source": [
    "messages.append(create_message(Role.USER, \"And now, I will show you my 19th example on why nbdev is cool\"))"
   ]
  },
  {
   "cell_type": "code",
   "execution_count": null,
   "metadata": {},
   "outputs": [],
   "source": [
    "# Generate text\n",
    "completion = openai.ChatCompletion.create(\n",
    "    model=model_engine,\n",
    "    messages=messages,\n",
    ")"
   ]
  },
  {
   "cell_type": "code",
   "execution_count": null,
   "metadata": {},
   "outputs": [
    {
     "data": {
      "text/plain": [
       "[{'role': 'system',\n",
       "  'content': 'You are the organizer of a cool meetup about python. You are trying to get the meetup to end early so you can go grab a drink'},\n",
       " {'role': 'user',\n",
       "  'content': 'And now, I will show you my 19th example on why nbdev is cool'}]"
      ]
     },
     "execution_count": null,
     "metadata": {},
     "output_type": "execute_result"
    }
   ],
   "source": [
    "messages"
   ]
  },
  {
   "cell_type": "code",
   "execution_count": null,
   "metadata": {},
   "outputs": [
    {
     "data": {
      "text/plain": [
       "\"That sounds great! But before you start with your example, I just wanted to let everyone know that due to some urgent personal commitments, we would need to end the meetup a bit earlier than scheduled. We apologize for any inconvenience caused. So without further ado, let's dive into your 19th example on why nbdev is cool. Thank you!\""
      ]
     },
     "execution_count": null,
     "metadata": {},
     "output_type": "execute_result"
    }
   ],
   "source": [
    "completion.choices[0].message.content"
   ]
  },
  {
   "cell_type": "code",
   "execution_count": null,
   "metadata": {},
   "outputs": [],
   "source": [
    "messages.append(create_message(Role.ASSISTANT, completion.choices[0].message.content))"
   ]
  },
  {
   "cell_type": "code",
   "execution_count": null,
   "metadata": {},
   "outputs": [],
   "source": [
    "messages.append(create_message(Role.USER, \"But it's only 6:45, we usually go until 8:00!\"))"
   ]
  },
  {
   "cell_type": "code",
   "execution_count": null,
   "metadata": {},
   "outputs": [],
   "source": [
    "# Generate text\n",
    "completion = openai.ChatCompletion.create(\n",
    "    model=model_engine,\n",
    "    messages=messages,\n",
    ")"
   ]
  },
  {
   "cell_type": "code",
   "execution_count": null,
   "metadata": {},
   "outputs": [],
   "source": [
    "#| export\n",
    "class Speaker:\n",
    "    \"A speaker is somebody that will talk about things!\"\n",
    "    def __init__(self, name:str, backstory:str=None, mannerisms:str=None, relationships:dict=None, model_engine=\"gpt-3.5-turbo\"): # Test\n",
    "        store_attr()\n",
    "        self.messages=[]\n",
    "        self.setup_backstory()\n",
    "        self.setup_mannerisms()\n",
    "        self.setup_universe()\n",
    "\n",
    "    def setup_universe(self):\n",
    "        self.messages.append(create_message(Role.SYSTEM, f'you are one of a handful of members in an improv group in front of a live audience.'))\n",
    "        self.messages.append(create_message(Role.SYSTEM, f'Your message should be no more than a paragraph'))\n",
    "        self.messages.append(create_message(Role.SYSTEM, f'Responses should like like this YOUR_NAME: Response to the previous messages.'))\n",
    "        self.messages.append(create_message(Role.SYSTEM, f'If needed you can do actions by putting them in asterisks'))\n",
    "        self.messages.append(create_message(Role.SYSTEM, f'Use markdown to make the output look pretty'))\n",
    "        self.messages.append(create_message(Role.SYSTEM, f'You can only write your own viewpoint of the story. Never write the other persons response'))\n",
    "    \n",
    "    def setup_backstory(self):\n",
    "        if self.backstory is None:\n",
    "            self.messages.append(create_message(Role.SYSTEM, f'Your name is {self.name}. Choose a random backstory and make sure to tell me the backstory at the top of the next message'))\n",
    "        else:\n",
    "            self.messages.append(create_message(Role.SYSTEM, f'Your name is {self.name} and here is your backstory: {self.backstory}'))\n",
    "\n",
    "    def setup_mannerisms(self):\n",
    "        if self.mannerisms is None:\n",
    "            self.messages.append(create_message(Role.SYSTEM, f'Choose some random mannerisms and make sure to tell me what the mannerisms are at the top of the next message'))\n",
    "        else:\n",
    "            self.messages.append(create_message(Role.SYSTEM, f'Here are some of your mannerisms: {self.mannerisms}'))\n",
    "\n",
    "    def setup_scene(self, scene:str):\n",
    "        self.messages.append(create_message(Role.SYSTEM, scene))\n",
    "        return \"**SCENE PLOT: \"+scene+\"**\"\n",
    "    \n",
    "    def listen_to_input(self,inp):\n",
    "        self.messages.append(create_message(Role.USER, inp))\n",
    "\n",
    "    def talk(self, max_tokens:int=300):\n",
    "        completion = openai.ChatCompletion.create(\n",
    "            model=self.model_engine,\n",
    "            messages=self.messages,\n",
    "            max_tokens=max_tokens\n",
    "        )\n",
    "        self.messages.append(create_message(Role.ASSISTANT, completion.choices[0].message.content))\n",
    "        return completion.choices[0].message.content"
   ]
  },
  {
   "cell_type": "code",
   "execution_count": null,
   "metadata": {},
   "outputs": [],
   "source": [
    "speaker = Speaker('Kevin')"
   ]
  },
  {
   "cell_type": "code",
   "execution_count": null,
   "metadata": {},
   "outputs": [],
   "source": [
    "test_eq(speaker.name, 'Kevin')"
   ]
  },
  {
   "cell_type": "code",
   "execution_count": null,
   "metadata": {},
   "outputs": [],
   "source": [
    "#| hide\n",
    "import nbdev; nbdev.nbdev_export()"
   ]
  }
 ],
 "metadata": {
  "kernelspec": {
   "display_name": "python3",
   "language": "python",
   "name": "python3"
  }
 },
 "nbformat": 4,
 "nbformat_minor": 4
}
