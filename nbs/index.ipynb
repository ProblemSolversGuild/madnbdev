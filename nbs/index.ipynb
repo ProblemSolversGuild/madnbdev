{
 "cells": [
  {
   "cell_type": "code",
   "execution_count": null,
   "metadata": {},
   "outputs": [],
   "source": [
    "#| hide\n",
    "from madnbdev.agent import Speaker"
   ]
  },
  {
   "cell_type": "markdown",
   "metadata": {},
   "source": [
    "# madnbdev\n",
    "\n",
    "> A library to help explore "
   ]
  },
  {
   "cell_type": "markdown",
   "metadata": {},
   "source": [
    "This file will become your README and also the index of your documentation."
   ]
  },
  {
   "cell_type": "markdown",
   "metadata": {},
   "source": [
    "## Install"
   ]
  },
  {
   "cell_type": "markdown",
   "metadata": {},
   "source": [
    "```sh\n",
    "pip install madnbdev\n",
    "```"
   ]
  },
  {
   "cell_type": "markdown",
   "metadata": {},
   "source": [
    "## How to use"
   ]
  },
  {
   "cell_type": "code",
   "execution_count": null,
   "metadata": {},
   "outputs": [],
   "source": [
    "speaker1 = Speaker(\"Detective Maxwell\", model_engine=\"gpt-4\")\n",
    "\n",
    "speaker2 = Speaker(\"Goldilocks\", model_engine=\"gpt-4\")"
   ]
  },
  {
   "cell_type": "code",
   "execution_count": null,
   "metadata": {},
   "outputs": [
    {
     "name": "stdout",
     "output_type": "stream",
     "text": [
      "Understood, I will adhere to the rules you've outlined.\n"
     ]
    }
   ],
   "source": [
    "#|echo: false\n",
    "#|output: asis\n",
    "print(speaker1.talk())"
   ]
  },
  {
   "cell_type": "code",
   "execution_count": null,
   "metadata": {},
   "outputs": [
    {
     "name": "stdout",
     "output_type": "stream",
     "text": [
      "**SCENE PLOT: You are in an interrogation room questioning Goldilocks about a recent burglary. She doesn't know you have an ace up your sleeve**\n"
     ]
    }
   ],
   "source": [
    "#|echo: false\n",
    "#|output: asis\n",
    "print(speaker1.setup_scene(f'You are in an interrogation room questioning Goldilocks about a recent burglary. She doesn\\'t know you have an ace up your sleeve'))"
   ]
  },
  {
   "cell_type": "code",
   "execution_count": null,
   "metadata": {},
   "outputs": [
    {
     "name": "stdout",
     "output_type": "stream",
     "text": [
      "DETECTIVE MAXWELL: Alright Miss Goldilocks, we can do this the easy way or the hard way. You see, I have surveillance video clearly showing you entering the Bears' residence. Can you explain why exactly you were there? *He leans back in his chair, watching her reaction closely*\n"
     ]
    }
   ],
   "source": [
    "#|echo: false\n",
    "#|output: asis\n",
    "print(speaker1.talk())"
   ]
  },
  {
   "cell_type": "code",
   "execution_count": null,
   "metadata": {},
   "outputs": [
    {
     "name": "stdout",
     "output_type": "stream",
     "text": [
      "**SCENE PLOT: You are being interrogated by a detective about a burglary that you definitely committed, but you aren't going to give him the satisfaction of cracking the case. After all, you are a hardened criminal that lives for the rush of the crime**\n"
     ]
    }
   ],
   "source": [
    "#|echo: false\n",
    "#|output: asis\n",
    "print(speaker2.setup_scene(f'You are being interrogated by a detective about a burglary that you definitely committed, but you aren\\'t going to give him the satisfaction of cracking the case. After all, you are a hardened criminal that lives for the rush of the crime'))"
   ]
  },
  {
   "cell_type": "code",
   "execution_count": null,
   "metadata": {},
   "outputs": [],
   "source": [
    "#|hide\n",
    "speaker2.listen_to_input(speaker1.messages[-1]['content'])"
   ]
  },
  {
   "cell_type": "code",
   "execution_count": null,
   "metadata": {},
   "outputs": [
    {
     "name": "stdout",
     "output_type": "stream",
     "text": [
      "GOLDILOCKS: Oh Detective Maxwell, I believe in an innocent until proven guilty stance, don't you? As for the Bears' home, they happen to be close friends of mine. We have a little comedy improv routine. *She crosses her legs, her casualness contrasting dramatically with the serious atmosphere.* We were simply rehearsing, surely you don't consider that a crime?\n"
     ]
    }
   ],
   "source": [
    "#|echo: false\n",
    "#|output: asis\n",
    "print(speaker2.talk())"
   ]
  },
  {
   "cell_type": "code",
   "execution_count": null,
   "metadata": {},
   "outputs": [],
   "source": [
    "#|hide\n",
    "speaker1.listen_to_input(speaker2.messages[-1]['content'])"
   ]
  },
  {
   "cell_type": "code",
   "execution_count": null,
   "metadata": {},
   "outputs": [
    {
     "name": "stdout",
     "output_type": "stream",
     "text": [
      "DETECTIVE MAXWELL: Close friends, you say? Committing improv? That sure is a funny way to go about friendship, don't you think? Breaking in and causing a ruckus... *He raises an eyebrow, tapping his pen rhythmically on the table*...not what most people would call rehearsing. Can you perhaps explain why they are pressing charges then?\n"
     ]
    }
   ],
   "source": [
    "#|echo: false\n",
    "#|output: asis\n",
    "print(speaker1.talk())"
   ]
  },
  {
   "cell_type": "code",
   "execution_count": null,
   "metadata": {},
   "outputs": [],
   "source": [
    "#|hide\n",
    "speaker2.listen_to_input(speaker1.messages[-1]['content'])"
   ]
  },
  {
   "cell_type": "code",
   "execution_count": null,
   "metadata": {},
   "outputs": [
    {
     "name": "stdout",
     "output_type": "stream",
     "text": [
      "GOLDILOCKS: Hmmm, pressing charges, is it? Now, that's certainly a twist in our little drama. *She chuckles lightly, drumming her fingers on the side of her chair.* Could it be they thought the play had turned too real and panicked? Or maybe they are still in character? They do take our little performances very seriously.\n"
     ]
    }
   ],
   "source": [
    "#|echo: false\n",
    "#|output: asis\n",
    "print(speaker2.talk())"
   ]
  },
  {
   "cell_type": "code",
   "execution_count": null,
   "metadata": {},
   "outputs": [],
   "source": [
    "#|hide\n",
    "speaker1.listen_to_input(speaker2.messages[-1]['content'])"
   ]
  },
  {
   "cell_type": "code",
   "execution_count": null,
   "metadata": {},
   "outputs": [
    {
     "name": "stdout",
     "output_type": "stream",
     "text": [
      "DETECTIVE MAXWELL: Interesting theory, Miss Goldilocks. However, vandalizing property and violating privacy don't quite sound like elements of comedy improv to me... *He leans forward, his fingers locked in front of him.* Now, would you like to revise your interesting, yet hard-to-believe, alibi, or shall we keep on with this little 'performance'?\n"
     ]
    }
   ],
   "source": [
    "#|echo: false\n",
    "#|output: asis\n",
    "print(speaker1.talk())"
   ]
  },
  {
   "cell_type": "code",
   "execution_count": null,
   "metadata": {},
   "outputs": [],
   "source": [
    "#|hide\n",
    "speaker2.listen_to_input(speaker1.messages[-1]['content'])"
   ]
  },
  {
   "cell_type": "code",
   "execution_count": null,
   "metadata": {},
   "outputs": [
    {
     "name": "stdout",
     "output_type": "stream",
     "text": [
      "GOLDILOCKS: I see no need to change my tune, Detective. *She leans back in her chair, a mischievous smile curving her lips.* Improv is all about unpredictability, isn't it? And I must say, aren't you enjoying our little performance here? I mean, your questioning is quite entertaining, almost as good as our improv!\n"
     ]
    }
   ],
   "source": [
    "#|echo: false\n",
    "#|output: asis\n",
    "print(speaker2.talk())"
   ]
  },
  {
   "cell_type": "code",
   "execution_count": null,
   "metadata": {},
   "outputs": [],
   "source": [
    "#|hide\n",
    "speaker1.listen_to_input(speaker2.messages[-1]['content'])"
   ]
  },
  {
   "cell_type": "code",
   "execution_count": null,
   "metadata": {},
   "outputs": [
    {
     "name": "stdout",
     "output_type": "stream",
     "text": [
      "DETECTIVE MAXWELL: Your audacity does have a certain...charm, Miss Goldilocks. But let's not forget where we are. *He interlaces his fingers, resting his chin on them.* This is an interrogation room, not a stage. And your antics could land you in serious trouble, not an encore. Is maintaining this act really worth the risk, or would the truth perhaps serve you better?\n"
     ]
    }
   ],
   "source": [
    "#|echo: false\n",
    "#|output: asis\n",
    "print(speaker1.talk())"
   ]
  }
 ],
 "metadata": {
  "kernelspec": {
   "display_name": "python3",
   "language": "python",
   "name": "python3"
  }
 },
 "nbformat": 4,
 "nbformat_minor": 4
}
