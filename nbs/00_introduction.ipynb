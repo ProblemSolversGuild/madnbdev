{
 "cells": [
  {
   "cell_type": "code",
   "execution_count": null,
   "metadata": {},
   "outputs": [],
   "source": [
    "#|default_exp intro"
   ]
  },
  {
   "cell_type": "markdown",
   "metadata": {},
   "source": [
    "---\n",
    "title: \"Introduction to nbdev\"\n",
    "author: \"Kevin Bird\"\n",
    "date: November 9, 2023\n",
    "format: \n",
    "    revealjs:\n",
    "        logo: \"logo 1 cropped smaller.png\"\n",
    "        footer: \"Problem Solvers Guild\"\n",
    "---"
   ]
  },
  {
   "cell_type": "markdown",
   "metadata": {},
   "source": [
    "## What is nbdev?"
   ]
  },
  {
   "cell_type": "markdown",
   "metadata": {},
   "source": [
    "nbdev is a notebook-driven development platform. It allows users to develop entirely in Jupyter Notebooks including documentation, tests, packaging, and CI.  "
   ]
  },
  {
   "cell_type": "markdown",
   "metadata": {},
   "source": [
    "## Library Framework"
   ]
  },
  {
   "cell_type": "markdown",
   "metadata": {},
   "source": [
    "nbdev allows a user to generate a Python library using Jupyter Notebooks. This can be useful when building up a library incrementally!  "
   ]
  },
  {
   "cell_type": "markdown",
   "metadata": {},
   "source": [
    "::: {.callout-note icon=false}\n",
    "`nbdev_new` is a command that will create a new nbdev project from scratch. \n",
    ":::"
   ]
  },
  {
   "cell_type": "markdown",
   "metadata": {},
   "source": [
    "## Documentation"
   ]
  },
  {
   "cell_type": "markdown",
   "metadata": {},
   "source": [
    "Another nice feature is the documentation that is generated from the notebooks. You don't have to maintain the documentation separately because it is added **in-line**. Only one file needs to be opened to update a function/class and then update the documentation to match the new changes!  "
   ]
  },
  {
   "cell_type": "markdown",
   "metadata": {},
   "source": [
    "::: {.callout-note icon=false}\n",
    "\r",
    "The documentation is build on top of [Quarto](https://quarto.org/) which means you can do some really cool things with your documentation out of the box (like create a slide deck)!\n",
    "\n",
    ":::"
   ]
  },
  {
   "cell_type": "markdown",
   "metadata": {},
   "source": [
    "## Function Walkthrough"
   ]
  },
  {
   "cell_type": "markdown",
   "metadata": {},
   "source": [
    "```{.python}\n",
    "#|export\n",
    "def do_something(var1:str, # A description of var1\n",
    "                 var2:int=42 # Including the types as well\n",
    "                ) -> str: # Describe the thing that is being returned\n",
    "    \"A signature that describes the function\"\n",
    "    return value\n",
    "```"
   ]
  },
  {
   "cell_type": "markdown",
   "metadata": {},
   "source": [
    "## Function Walkthrough: Directives"
   ]
  },
  {
   "cell_type": "markdown",
   "metadata": {},
   "source": [
    "```{.python code-line-numbers=\"1\"}\n",
    "#|export\n",
    "def do_something(var1:str, # A description of var1\n",
    "                 var2:int=42 # Including the types as well\n",
    "                ) -> str: # Describe the thing that is being returned\n",
    "    \"A signature that describes the function\"\n",
    "    return value\n",
    "```"
   ]
  },
  {
   "cell_type": "markdown",
   "metadata": {},
   "source": [
    "::: {.incremental}\n",
    "- `#|hide` - hides the input and output content of a specific cell\n",
    "- `#|code-fold:true` - folds a code cell so that it can be expanding or collapsed\n",
    "- `#|default_exp filename` - used to determine the module the exports will be put by default\n",
    ":::"
   ]
  },
  {
   "cell_type": "markdown",
   "metadata": {},
   "source": [
    "## Function Walkthrough: Parameters"
   ]
  },
  {
   "cell_type": "markdown",
   "metadata": {},
   "source": [
    "```{.python code-line-numbers=\"2,3\"}\n",
    "#|export\n",
    "def do_something(var1:str, # A description of var1\n",
    "                 var2:int=42 # Including the types as well\n",
    "                ) -> str: # Describe the thing that is being returned\n",
    "    \"A signature that describes the function\"\n",
    "    return value\n",
    "```"
   ]
  },
  {
   "cell_type": "markdown",
   "metadata": {},
   "source": [
    "## Function Walkthrough: Output"
   ]
  },
  {
   "cell_type": "markdown",
   "metadata": {},
   "source": [
    "```{.python code-line-numbers=\"4\"}\n",
    "#|export\n",
    "def do_something(var1:str, # A description of var1\n",
    "                 var2:int=42 # Including the types as well\n",
    "                ) -> str: # Describe the thing that is being returned\n",
    "    \"A signature that describes the function\"\n",
    "    return value\n",
    "```"
   ]
  },
  {
   "cell_type": "markdown",
   "metadata": {},
   "source": [
    "## Function Walkthrough: Signature"
   ]
  },
  {
   "cell_type": "markdown",
   "metadata": {},
   "source": [
    "```{.python code-line-numbers=\"5\"}\n",
    "#|export\n",
    "def do_something(var1:str, # A description of var1\n",
    "                 var2:int=42 # Including the types as well\n",
    "                ) -> str: # Describe the thing that is being returned\n",
    "    \"A signature that describes the function\"\n",
    "    return value\n",
    "```"
   ]
  },
  {
   "cell_type": "code",
   "execution_count": null,
   "metadata": {},
   "outputs": [],
   "source": [
    "#|export\n",
    "def do_something(var1:str, # A description of var1\n",
    "                 var2:int=42 # Including the types as well\n",
    "                ) -> str: # Describe the thing that is being returned\n",
    "    \"A signature that describes the function\"\n",
    "    return value"
   ]
  },
  {
   "cell_type": "markdown",
   "metadata": {},
   "source": [
    "## Testing"
   ]
  },
  {
   "cell_type": "markdown",
   "metadata": {},
   "source": [
    "- Github actions come with each new project in nbdev\n",
    "- Ensure Notebooks are clean, up to date, and tests pass\n",
    "- Deploys documentation to Github Pages"
   ]
  },
  {
   "cell_type": "markdown",
   "metadata": {},
   "source": [
    "::: {.callout-note icon=false}\n",
    "\n",
    "`nbdev_test` - Runs through notebooks and runs through code to ensure tests are passing\n",
    "\n",
    ":::"
   ]
  },
  {
   "cell_type": "markdown",
   "metadata": {},
   "source": [
    "## What is a test?"
   ]
  },
  {
   "cell_type": "markdown",
   "metadata": {},
   "source": [
    "Anything that executes code in a cell is a test in nbdev.\n",
    "\n",
    "- from fastcore.test import test_eq\n",
    "- assert a==b\n",
    "- do_something('works?')"
   ]
  },
  {
   "cell_type": "markdown",
   "metadata": {},
   "source": [
    "All of these are valid tests in nbdev!"
   ]
  },
  {
   "cell_type": "markdown",
   "metadata": {},
   "source": [
    "## [Documentation Hosting Deployment](https://nbdev.fast.ai/explanations/docs.html#deploying-docs-with-github-actions)"
   ]
  },
  {
   "cell_type": "markdown",
   "metadata": {},
   "source": [
    "nbdev uses GitHub Pages to host the documentation in GitHub. These docs can also be deployed to Netlify or another static site host"
   ]
  },
  {
   "cell_type": "markdown",
   "metadata": {},
   "source": [
    "## Pypi/Conda Deployment"
   ]
  },
  {
   "cell_type": "markdown",
   "metadata": {},
   "source": [
    "`nbdev_pypi`-Deploys the current version of the library to pypi\n",
    "`nbdev_conda`-Deploys the current version of the library to Conda"
   ]
  },
  {
   "cell_type": "markdown",
   "metadata": {},
   "source": [
    "## GitHub Actions"
   ]
  },
  {
   "cell_type": "markdown",
   "metadata": {},
   "source": [
    "nbdev sets up some github actions when a new nbdev project is created. These will run the tests on your project and generate the documentation"
   ]
  },
  {
   "cell_type": "markdown",
   "metadata": {},
   "source": [
    "## Quarto Documentation"
   ]
  },
  {
   "cell_type": "markdown",
   "metadata": {},
   "source": [
    "Let's revisit the fact that this is built on top Quarto"
   ]
  },
  {
   "cell_type": "code",
   "execution_count": null,
   "metadata": {},
   "outputs": [],
   "source": [
    "#| hide\n",
    "import nbdev; nbdev.nbdev_export()"
   ]
  },
  {
   "cell_type": "code",
   "execution_count": null,
   "metadata": {},
   "outputs": [],
   "source": []
  }
 ],
 "metadata": {
  "kernelspec": {
   "display_name": "python3",
   "language": "python",
   "name": "python3"
  }
 },
 "nbformat": 4,
 "nbformat_minor": 4
}
