{
 "cells": [
  {
   "cell_type": "code",
   "execution_count": null,
   "metadata": {},
   "outputs": [],
   "source": [
    "#|default_exp intro"
   ]
  },
  {
   "cell_type": "markdown",
   "metadata": {},
   "source": [
    "---\n",
    "title: \"Introduction to nbdev\"\n",
    "author: \"Kevin Bird\"\n",
    "date: November 9, 2023\n",
    "format: \n",
    "    revealjs:\n",
    "        logo: \"https://www.problemsolversguild.com/wp-content/uploads/2021/02/Logo-1-1-e1613102526687.png\"\n",
    "        footer: \"Problem Solvers Guild\"\n",
    "        <!-- embed-resources: true -->\n",
    "        chalkboard: true\n",
    "---"
   ]
  },
  {
   "cell_type": "markdown",
   "metadata": {},
   "source": [
    "## What is nbdev?"
   ]
  },
  {
   "cell_type": "markdown",
   "metadata": {},
   "source": [
    "nbdev is a notebook-driven development platform. It allows users to develop entirely in Jupyter Notebooks including documentation, tests, packaging, and CI.  "
   ]
  },
  {
   "cell_type": "markdown",
   "metadata": {},
   "source": [
    "::: {.callout-note icon=false}  \n",
    "Have people used Jupyter Notebooks?\n",
    ":::"
   ]
  },
  {
   "cell_type": "markdown",
   "metadata": {},
   "source": [
    "## Library Framework"
   ]
  },
  {
   "cell_type": "markdown",
   "metadata": {},
   "source": [
    "nbdev allows a user to generate a Python library using Jupyter Notebooks. This can be useful when building up a library incrementally!  "
   ]
  },
  {
   "cell_type": "markdown",
   "metadata": {},
   "source": [
    "::: {.callout-note icon=false}\n",
    "`nbdev_new` is a command that will create a new nbdev project from scratch. \n",
    ":::"
   ]
  },
  {
   "cell_type": "markdown",
   "metadata": {},
   "source": [
    "## Documentation"
   ]
  },
  {
   "cell_type": "markdown",
   "metadata": {},
   "source": [
    "Another nice feature is the documentation that is generated from the notebooks. You don't have to maintain the documentation separately because it is added **in-line**. Only one file needs to be opened to update a function/class and then update the documentation to match the new changes!  "
   ]
  },
  {
   "cell_type": "markdown",
   "metadata": {},
   "source": [
    "::: {.callout-note icon=false}\n",
    "\r",
    "The documentation is build on top of [Quarto](https://quarto.org/) which means you can do some really cool things with your documentation out of the box (like [create a slide deck](https://quarto.org/docs/presentations/revealjs/))!\n",
    "\n",
    ":::"
   ]
  },
  {
   "cell_type": "markdown",
   "metadata": {},
   "source": [
    "## Function Walkthrough"
   ]
  },
  {
   "cell_type": "markdown",
   "metadata": {},
   "source": [
    "```{.python}\n",
    "#|export\n",
    "def do_something(var1:str, # A description of var1\n",
    "                 var2:int=42 # Including the types as well\n",
    "                ) -> str: # Describe the thing that is being returned\n",
    "    \"A signature that describes the function\"\n",
    "    return value\n",
    "```"
   ]
  },
  {
   "cell_type": "markdown",
   "metadata": {},
   "source": [
    "## Function Walkthrough: Directives"
   ]
  },
  {
   "cell_type": "markdown",
   "metadata": {},
   "source": [
    "```{.python code-line-numbers=\"1\"}\n",
    "#|export\n",
    "def do_something(var1:str, # A description of var1\n",
    "                 var2:int=42 # Including the types as well\n",
    "                ) -> str: # Describe the thing that is being returned\n",
    "    \"A signature that describes the function\"\n",
    "    return value\n",
    "```"
   ]
  },
  {
   "cell_type": "markdown",
   "metadata": {},
   "source": [
    "::: {.incremental}\n",
    "- `#|hide` - hides the input and output content of a specific cell\n",
    "- `#|code-fold:true` - folds a code cell so that it can be expanding or collapsed\n",
    "- `#|default_exp filename` - used to determine the module the exports will be put by default\n",
    ":::"
   ]
  },
  {
   "cell_type": "markdown",
   "metadata": {},
   "source": [
    "## Function Walkthrough: Parameters"
   ]
  },
  {
   "cell_type": "markdown",
   "metadata": {},
   "source": [
    "```{.python code-line-numbers=\"2,3\"}\n",
    "#|export\n",
    "def do_something(var1:str, # A description of var1\n",
    "                 var2:int=42 # Including the types as well\n",
    "                ) -> str: # Describe the thing that is being returned\n",
    "    \"A signature that describes the function\"\n",
    "    return value\n",
    "```"
   ]
  },
  {
   "cell_type": "markdown",
   "metadata": {},
   "source": [
    "::: {.incremental}\n",
    "\n",
    "- typehints (`:str` and `:int` are only suggestions\n",
    "- The overall concept (minus the directive) is referred to as [`docment`](https://fastcore.fast.ai/docments.html) (documentation+comment)\n",
    "\n",
    ":::"
   ]
  },
  {
   "cell_type": "markdown",
   "metadata": {},
   "source": [
    "## Function Walkthrough: Output"
   ]
  },
  {
   "cell_type": "markdown",
   "metadata": {},
   "source": [
    "```{.python code-line-numbers=\"4\"}\n",
    "#|export\n",
    "def do_something(var1:str, # A description of var1\n",
    "                 var2:int=42 # Including the types as well\n",
    "                ) -> str: # Describe the thing that is being returned\n",
    "    \"A signature that describes the function\"\n",
    "    return value\n",
    "```"
   ]
  },
  {
   "cell_type": "markdown",
   "metadata": {},
   "source": [
    "## Function Walkthrough: Signature"
   ]
  },
  {
   "cell_type": "markdown",
   "metadata": {},
   "source": [
    "```{.python code-line-numbers=\"5\"}\n",
    "#|export\n",
    "def do_something(var1:str, # A description of var1\n",
    "                 var2:int=42 # Including the types as well\n",
    "                ) -> str: # Describe the thing that is being returned\n",
    "    \"A signature that describes the function\"\n",
    "    return value\n",
    "```"
   ]
  },
  {
   "cell_type": "code",
   "execution_count": null,
   "metadata": {},
   "outputs": [],
   "source": [
    "#|export\n",
    "def do_something(var1:str, # A description of var1\n",
    "                 var2:int=42 # Including the types as well\n",
    "                ) -> str: # Describe the thing that is being returned\n",
    "    \"A signature that describes the function\"\n",
    "    return value"
   ]
  },
  {
   "cell_type": "markdown",
   "metadata": {},
   "source": [
    "## Testing"
   ]
  },
  {
   "cell_type": "markdown",
   "metadata": {},
   "source": [
    "- Github actions come with each new project in nbdev\n",
    "- Ensure Notebooks are clean, up to date, and tests pass\n",
    "- Deploys documentation to Github Pages"
   ]
  },
  {
   "cell_type": "markdown",
   "metadata": {},
   "source": [
    "::: {.callout-note icon=false}\n",
    "\n",
    "`nbdev_test` - Runs through notebooks and runs through code to ensure tests are passing\n",
    "\n",
    ":::"
   ]
  },
  {
   "cell_type": "markdown",
   "metadata": {},
   "source": [
    "## What is a test?"
   ]
  },
  {
   "cell_type": "markdown",
   "metadata": {},
   "source": [
    "Anything that executes code in a cell is a test in nbdev.\n",
    "\n",
    "- from fastcore.test import test_eq\n",
    "- assert a==b\n",
    "- do_something('works?')"
   ]
  },
  {
   "cell_type": "markdown",
   "metadata": {},
   "source": [
    "All of these are valid tests in nbdev!"
   ]
  },
  {
   "cell_type": "code",
   "execution_count": null,
   "metadata": {},
   "outputs": [
    {
     "ename": "NameError",
     "evalue": "name 'value' is not defined",
     "output_type": "error",
     "traceback": [
      "\u001b[0;31m---------------------------------------------------------------------------\u001b[0m",
      "\u001b[0;31mNameError\u001b[0m                                 Traceback (most recent call last)",
      "Cell \u001b[0;32mIn[3], line 1\u001b[0m\n\u001b[0;32m----> 1\u001b[0m \u001b[43mdo_something\u001b[49m\u001b[43m(\u001b[49m\u001b[38;5;124;43m\"\u001b[39;49m\u001b[38;5;124;43mlame\u001b[39;49m\u001b[38;5;124;43m\"\u001b[39;49m\u001b[43m)\u001b[49m\n",
      "Cell \u001b[0;32mIn[2], line 6\u001b[0m, in \u001b[0;36mdo_something\u001b[0;34m(var1, var2)\u001b[0m\n\u001b[1;32m      2\u001b[0m \u001b[38;5;28;01mdef\u001b[39;00m \u001b[38;5;21mdo_something\u001b[39m(var1:\u001b[38;5;28mstr\u001b[39m, \u001b[38;5;66;03m# A description of var1\u001b[39;00m\n\u001b[1;32m      3\u001b[0m                  var2:\u001b[38;5;28mint\u001b[39m\u001b[38;5;241m=\u001b[39m\u001b[38;5;241m42\u001b[39m \u001b[38;5;66;03m# Including the types as well\u001b[39;00m\n\u001b[1;32m      4\u001b[0m                 ) \u001b[38;5;241m-\u001b[39m\u001b[38;5;241m>\u001b[39m \u001b[38;5;28mstr\u001b[39m: \u001b[38;5;66;03m# Describe the thing that is being returned\u001b[39;00m\n\u001b[1;32m      5\u001b[0m     \u001b[38;5;124m\"\u001b[39m\u001b[38;5;124mA signature that describes the function\u001b[39m\u001b[38;5;124m\"\u001b[39m\n\u001b[0;32m----> 6\u001b[0m     \u001b[38;5;28;01mreturn\u001b[39;00m \u001b[43mvalue\u001b[49m\n",
      "\u001b[0;31mNameError\u001b[0m: name 'value' is not defined"
     ]
    }
   ],
   "source": [
    "do_something(\"awesome\")"
   ]
  },
  {
   "cell_type": "markdown",
   "metadata": {},
   "source": [
    "## settings.ini"
   ]
  },
  {
   "cell_type": "markdown",
   "metadata": {},
   "source": [
    "`settings.ini` is one of the main places to make changes to an nbdev project.  (.ini==initialization==configuration)\n",
    "\n",
    "* `nbs_path` - Define the location of Jupyter Notebooks (.ipynb files)\n",
    "* `version` - The current library version\n",
    "* A ton more examples [here](https://nbdev.fast.ai/explanations/config.html)"
   ]
  },
  {
   "cell_type": "markdown",
   "metadata": {},
   "source": [
    "## Command Line"
   ]
  },
  {
   "cell_type": "markdown",
   "metadata": {},
   "source": [
    "::: {.incremental}\n",
    "\n",
    "nbdev offers the ability to offer library functions in a command line with very minimal overhead  \n",
    "\n",
    "- Create commands by setting up `console_scripts` in the settings.ini file  \n",
    "- {new_command_name}={lib_name}.{module_name}:{function_name}\n",
    "- `madnbdev_generate_message=madnbdev.agent:generate_message`  \n",
    "- `@call_parse` helps make it feel more command line-y (i.e `-h` or `--help`)\n",
    ":::"
   ]
  },
  {
   "cell_type": "markdown",
   "metadata": {},
   "source": [
    "::: {.callout-warning icon=false}\n",
    "\n",
    "Jargon warning: @blah on top of a python function is referred to as a `decorator`\n",
    "\n",
    ":::"
   ]
  },
  {
   "cell_type": "markdown",
   "metadata": {},
   "source": [
    "## Pypi/Conda Deployment"
   ]
  },
  {
   "cell_type": "markdown",
   "metadata": {},
   "source": [
    "- `nbdev_pypi`-Deploys the current version of the library to pypi\n",
    "- `nbdev_conda`-Deploys the current version of the library to Conda"
   ]
  },
  {
   "cell_type": "markdown",
   "metadata": {},
   "source": [
    "## nbdev Downsides"
   ]
  },
  {
   "cell_type": "markdown",
   "metadata": {},
   "source": [
    "::: {.incremental}\n",
    "\n",
    "* Tools for notebooks and notebooks themselves are still maturing\n",
    "* A library with heavy work happening at the same time may struggle with nbdev ^[There is an nbdev solution called `nbdev_merge` that can help in this situation] ^[`nbdev_clean` also helps reduce these merge conflicts as well]\n",
    "* Frameworks cause complexity\n",
    "\n",
    ":::"
   ]
  },
  {
   "cell_type": "markdown",
   "metadata": {},
   "source": [
    "## Questions?"
   ]
  },
  {
   "cell_type": "markdown",
   "metadata": {},
   "source": [
    "* Join the madpy slack (slack.madpy.com to sign up)\n",
    "* Email: kevin@problemsolversguild.com\n",
    "* GitHub: kevinbird15"
   ]
  },
  {
   "cell_type": "code",
   "execution_count": null,
   "metadata": {},
   "outputs": [],
   "source": [
    "#| hide\n",
    "import nbdev; nbdev.nbdev_export()"
   ]
  },
  {
   "cell_type": "code",
   "execution_count": null,
   "metadata": {},
   "outputs": [],
   "source": []
  }
 ],
 "metadata": {
  "kernelspec": {
   "display_name": "python3",
   "language": "python",
   "name": "python3"
  }
 },
 "nbformat": 4,
 "nbformat_minor": 4
}
