{
 "cells": [
  {
   "cell_type": "code",
   "execution_count": null,
   "id": "5742bfba-78a2-4190-a2c6-d5e367c9f66c",
   "metadata": {},
   "outputs": [],
   "source": [
    "#| default_exp basic"
   ]
  },
  {
   "cell_type": "markdown",
   "id": "ae9983c9-f882-46b1-bd10-ce7b5aa5c509",
   "metadata": {},
   "source": [
    "# Basic Notebook\n",
    "> An example to show madpy nbdev"
   ]
  },
  {
   "cell_type": "code",
   "execution_count": null,
   "id": "e07a1d4e-3387-42e5-a043-b799ce605549",
   "metadata": {},
   "outputs": [],
   "source": [
    "#| exporti\n",
    "import datetime"
   ]
  },
  {
   "cell_type": "code",
   "execution_count": null,
   "id": "63c6d21e-082c-414d-a2fc-35533b09c8ec",
   "metadata": {},
   "outputs": [],
   "source": [
    "from fastcore.test import test_eq"
   ]
  },
  {
   "cell_type": "code",
   "execution_count": null,
   "id": "1a9d75bf-6082-43d3-a6df-6ac9ed13c62b",
   "metadata": {},
   "outputs": [],
   "source": [
    "#| export\n",
    "def arrange_talk(speaker:str, # The name of the speaker\n",
    "                 title:str, # The title of the talk that will be given\n",
    "                 talk_date:datetime.date=datetime.date.today() # The date that the speaker will be giving the talk\n",
    "                ) -> str: # The output is a string that gives a human readable output of the information provided\n",
    "    \"This is a really important docstring that conveys useful information!\"\n",
    "    return f\"{speaker} will be talking about {title} on {talk_date}\""
   ]
  },
  {
   "cell_type": "code",
   "execution_count": null,
   "id": "fb2f11e6-5e3f-4815-8178-3f2ba59e7cf9",
   "metadata": {},
   "outputs": [
    {
     "data": {
      "text/plain": [
       "'Kevin Bird will be talking about nbdev on 2023-11-09'"
      ]
     },
     "execution_count": null,
     "metadata": {},
     "output_type": "execute_result"
    }
   ],
   "source": [
    "#|code-fold: true\n",
    "arrange_talk(\"Kevin Bird\", \"nbdev\",  datetime.date(2023,11,9))"
   ]
  },
  {
   "cell_type": "code",
   "execution_count": null,
   "id": "7a113eee-2311-4a8a-b306-6ddc4d4cdbc7",
   "metadata": {},
   "outputs": [],
   "source": [
    "test_eq(arrange_talk(\"Kevin Bird\", \"nbdev\",  datetime.date(2023,11,9)), 'Kevin Bird will be talking about nbdev on 2023-11-09')"
   ]
  },
  {
   "cell_type": "code",
   "execution_count": null,
   "id": "d0b3cbb7-b783-4713-b6c2-f3d936e9db4a",
   "metadata": {},
   "outputs": [],
   "source": [
    "#| hide\n",
    "import nbdev; nbdev.nbdev_export()"
   ]
  },
  {
   "cell_type": "code",
   "execution_count": null,
   "id": "294435dd-dbf1-4568-bb1d-6584a561a709",
   "metadata": {},
   "outputs": [],
   "source": []
  }
 ],
 "metadata": {
  "kernelspec": {
   "display_name": "python3",
   "language": "python",
   "name": "python3"
  }
 },
 "nbformat": 4,
 "nbformat_minor": 5
}
