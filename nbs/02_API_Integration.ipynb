{
 "cells": [
  {
   "cell_type": "markdown",
   "metadata": {},
   "source": [
    "# Testing with nbdev\n",
    "\n",
    "> Highlighting some key ideas of nbdev"
   ]
  },
  {
   "cell_type": "markdown",
   "metadata": {},
   "source": [
    "One of the nice features that can be useful with nbdev is the ability to add tests inside of the notebooks. This occurs as just another cell and I will demonstrate it below"
   ]
  },
  {
   "cell_type": "code",
   "execution_count": null,
   "metadata": {},
   "outputs": [],
   "source": [
    "#| default_exp agent"
   ]
  },
  {
   "cell_type": "code",
   "execution_count": null,
   "metadata": {},
   "outputs": [],
   "source": [
    "#| export\n",
    "import datetime\n",
    "import os\n",
    "import openai\n",
    "from fastcore.basics import store_attr\n",
    "from fastcore.test import test_eq"
   ]
  },
  {
   "cell_type": "code",
   "execution_count": null,
   "metadata": {},
   "outputs": [],
   "source": [
    "#| export \n",
    "openai.api_key = os.environ['OPENAI_API_KEY']\n",
    "model_engine = \"gpt-3.5-turbo\""
   ]
  },
  {
   "cell_type": "code",
   "execution_count": null,
   "metadata": {},
   "outputs": [],
   "source": [
    "#| export\n",
    "from enum import Enum"
   ]
  },
  {
   "cell_type": "code",
   "execution_count": null,
   "metadata": {},
   "outputs": [],
   "source": [
    "#| export\n",
    "class Role(Enum):\n",
    "    \"This corresponds to the roles that openai allows for the ChatGPT API\"\n",
    "    SYSTEM = \"system\"\n",
    "    USER = \"user\"\n",
    "    ASSISTANT = \"assistant\"\n",
    "    FUNCTION = \"function\""
   ]
  },
  {
   "cell_type": "code",
   "execution_count": null,
   "metadata": {},
   "outputs": [
    {
     "name": "stdout",
     "output_type": "stream",
     "text": [
      "Role.SYSTEM: \"system\"\n",
      "Role.USER: \"user\"\n",
      "Role.ASSISTANT: \"assistant\"\n",
      "Role.FUNCTION: \"function\"\n"
     ]
    }
   ],
   "source": [
    "#| echo: false\n",
    "for r in Role:\n",
    "    print(f\"{r}: \\\"{r.value}\\\"\")"
   ]
  },
  {
   "cell_type": "code",
   "execution_count": null,
   "metadata": {},
   "outputs": [],
   "source": [
    "#| export\n",
    "def create_message(role_type:Role, # Whether this message is the system, user, or assistant talking\n",
    "                   content:str # A string that can be used \n",
    "                  ):\n",
    "    return {\"role\":role_type.value, \"content\": content}"
   ]
  },
  {
   "cell_type": "code",
   "execution_count": null,
   "metadata": {},
   "outputs": [],
   "source": [
    "messages = []"
   ]
  },
  {
   "cell_type": "code",
   "execution_count": null,
   "metadata": {},
   "outputs": [],
   "source": [
    "messages.append(create_message(Role.SYSTEM, \"You are the organizer of a cool meetup about python. You are trying to get the speaker to wrap up his talk\"))"
   ]
  },
  {
   "cell_type": "code",
   "execution_count": null,
   "metadata": {},
   "outputs": [],
   "source": [
    "messages.append(create_message(Role.USER, \"And now, I will show you my 19th example on why nbdev is cool\"))"
   ]
  },
  {
   "cell_type": "code",
   "execution_count": null,
   "metadata": {},
   "outputs": [],
   "source": [
    "# Generate text\n",
    "completion = openai.ChatCompletion.create(\n",
    "    model=model_engine,\n",
    "    messages=messages,\n",
    ")"
   ]
  },
  {
   "cell_type": "code",
   "execution_count": null,
   "metadata": {},
   "outputs": [],
   "source": [
    "acompletion = openai.ChatCompletion.acreate(\n",
    "    model=model_engine,\n",
    "    messages=messages,\n",
    ")"
   ]
  },
  {
   "cell_type": "code",
   "execution_count": null,
   "metadata": {},
   "outputs": [],
   "source": [
    "completion_type2 = await acompletion"
   ]
  },
  {
   "cell_type": "code",
   "execution_count": null,
   "metadata": {},
   "outputs": [
    {
     "data": {
      "text/plain": [
       "{'id': 'chatcmpl-8HmXYSh0qW6hsD9Br6z28voGbiGgp',\n",
       " 'object': 'chat.completion',\n",
       " 'created': 1699248856,\n",
       " 'model': 'gpt-3.5-turbo-0613',\n",
       " 'choices': [{'index': 0,\n",
       "   'message': {'role': 'assistant',\n",
       "    'content': \"Thank you for sharing your 19th example! It's been really interesting and informative. However, we are running a bit short on time, and we have a few things left to cover. So, if you could kindly wrap up your talk and maybe highlight the main takeaways from your examples, that would be great. We want to make sure we have enough time for questions and discussion at the end. Thank you!\"},\n",
       "   'finish_reason': 'stop'}],\n",
       " 'usage': {'prompt_tokens': 52, 'completion_tokens': 85, 'total_tokens': 137}}"
      ]
     },
     "execution_count": null,
     "metadata": {},
     "output_type": "execute_result"
    }
   ],
   "source": [
    "completion.to_dict_recursive()"
   ]
  },
  {
   "cell_type": "code",
   "execution_count": null,
   "metadata": {},
   "outputs": [
    {
     "data": {
      "text/plain": [
       "[<OpenAIObject> JSON: {\n",
       "   \"index\": 0,\n",
       "   \"message\": {\n",
       "     \"role\": \"assistant\",\n",
       "     \"content\": \"Thank you for sharing your 19th example! It's been really interesting and informative. However, we are running a bit short on time, and we have a few things left to cover. So, if you could kindly wrap up your talk and maybe highlight the main takeaways from your examples, that would be great. We want to make sure we have enough time for questions and discussion at the end. Thank you!\"\n",
       "   },\n",
       "   \"finish_reason\": \"stop\"\n",
       " }]"
      ]
     },
     "execution_count": null,
     "metadata": {},
     "output_type": "execute_result"
    }
   ],
   "source": [
    "completion.choices"
   ]
  },
  {
   "cell_type": "code",
   "execution_count": null,
   "metadata": {},
   "outputs": [
    {
     "data": {
      "text/plain": [
       "[<OpenAIObject> JSON: {\n",
       "   \"index\": 0,\n",
       "   \"message\": {\n",
       "     \"role\": \"assistant\",\n",
       "     \"content\": \"Thank you for sharing your 19th example! It's been really interesting and informative. However, we are running a bit short on time, and we have a few things left to cover. So, if you could kindly wrap up your talk and maybe highlight the main takeaways from your examples, that would be great. We want to make sure we have enough time for questions and discussion at the end. Thank you!\"\n",
       "   },\n",
       "   \"finish_reason\": \"stop\"\n",
       " }]"
      ]
     },
     "execution_count": null,
     "metadata": {},
     "output_type": "execute_result"
    }
   ],
   "source": [
    "completion['choices']"
   ]
  },
  {
   "cell_type": "code",
   "execution_count": null,
   "metadata": {},
   "outputs": [],
   "source": [
    "test_eq(completion['choices'], completion.choices)"
   ]
  },
  {
   "cell_type": "code",
   "execution_count": null,
   "metadata": {},
   "outputs": [
    {
     "data": {
      "text/plain": [
       "openai.openai_object.OpenAIObject"
      ]
     },
     "execution_count": null,
     "metadata": {},
     "output_type": "execute_result"
    }
   ],
   "source": [
    "type(completion)"
   ]
  },
  {
   "cell_type": "code",
   "execution_count": null,
   "metadata": {},
   "outputs": [
    {
     "name": "stdout",
     "output_type": "stream",
     "text": [
      "Thank you for sharing your 19th example! It's been really interesting and informative. However, we are running a bit short on time, and we have a few things left to cover. So, if you could kindly wrap up your talk and maybe highlight the main takeaways from your examples, that would be great. We want to make sure we have enough time for questions and discussion at the end. Thank you!\n"
     ]
    }
   ],
   "source": [
    "#|output: asis\n",
    "print(completion.choices[0].message.content)"
   ]
  },
  {
   "cell_type": "code",
   "execution_count": null,
   "metadata": {},
   "outputs": [],
   "source": [
    "#| export\n",
    "class Speaker:\n",
    "    \"A speaker is somebody that will talk about things!\"\n",
    "    def __init__(self, name:str, backstory:str=None, mannerisms:str=None, relationships:dict=None, model_engine=\"gpt-3.5-turbo\"): # Test\n",
    "        store_attr()\n",
    "        self.messages=[]\n",
    "        self.setup_backstory()\n",
    "        self.setup_mannerisms()\n",
    "        self.setup_universe()\n",
    "\n",
    "    def setup_universe(self):\n",
    "        # self.messages.append(create_message(Role.SYSTEM, f'you are one of a handful of members in an improv group in front of a live audience.'))\n",
    "        self.messages.append(create_message(Role.SYSTEM, f'Your message should be no more than a paragraph'))\n",
    "        self.messages.append(create_message(Role.SYSTEM, f'Responses should like like this YOUR_NAME: Response to the previous messages.'))\n",
    "        self.messages.append(create_message(Role.SYSTEM, f'If needed you can do actions by putting them in asterisks'))\n",
    "        self.messages.append(create_message(Role.SYSTEM, f'Use markdown to make the output look pretty'))\n",
    "        self.messages.append(create_message(Role.SYSTEM, f'You can only write your own viewpoint of the story. Never write the other persons response'))\n",
    "    \n",
    "    def setup_backstory(self):\n",
    "        if self.backstory is None:\n",
    "            self.messages.append(create_message(Role.SYSTEM, f'Your name is {self.name}. Choose a random backstory and make sure to tell me the backstory at the top of the next message'))\n",
    "        else:\n",
    "            self.messages.append(create_message(Role.SYSTEM, f'Your name is {self.name} and here is your backstory: {self.backstory}'))\n",
    "\n",
    "    def setup_mannerisms(self):\n",
    "        if self.mannerisms is None:\n",
    "            self.messages.append(create_message(Role.SYSTEM, f'Choose some random mannerisms and make sure to tell me what the mannerisms are at the top of the next message'))\n",
    "        else:\n",
    "            self.messages.append(create_message(Role.SYSTEM, f'Here are some of your mannerisms: {self.mannerisms}'))\n",
    "\n",
    "    def setup_scene(self, scene:str):\n",
    "        self.messages.append(create_message(Role.SYSTEM, scene))\n",
    "        return \"**SCENE PLOT: \"+scene+\"**\"\n",
    "    \n",
    "    def listen_to_input(self,inp):\n",
    "        self.messages.append(create_message(Role.USER, inp))\n",
    "\n",
    "    def talk(self, max_tokens:int=300):\n",
    "        completion = openai.ChatCompletion.create(\n",
    "            model=self.model_engine,\n",
    "            messages=self.messages,\n",
    "            max_tokens=max_tokens\n",
    "        )\n",
    "        self.messages.append(create_message(Role.ASSISTANT, completion.choices[0].message.content))\n",
    "        return completion.choices[0].message.content"
   ]
  },
  {
   "cell_type": "code",
   "execution_count": null,
   "metadata": {},
   "outputs": [],
   "source": [
    "speaker = Speaker('Kevin')"
   ]
  },
  {
   "cell_type": "code",
   "execution_count": null,
   "metadata": {},
   "outputs": [
    {
     "data": {
      "text/plain": [
       "[{'role': 'system',\n",
       "  'content': 'Your name is Kevin. Choose a random backstory and make sure to tell me the backstory at the top of the next message'},\n",
       " {'role': 'system',\n",
       "  'content': 'Choose some random mannerisms and make sure to tell me what the mannerisms are at the top of the next message'},\n",
       " {'role': 'system',\n",
       "  'content': 'Your message should be no more than a paragraph'},\n",
       " {'role': 'system',\n",
       "  'content': 'Responses should like like this YOUR_NAME: Response to the previous messages.'},\n",
       " {'role': 'system',\n",
       "  'content': 'If needed you can do actions by putting them in asterisks'},\n",
       " {'role': 'system', 'content': 'Use markdown to make the output look pretty'},\n",
       " {'role': 'system',\n",
       "  'content': 'You can only write your own viewpoint of the story. Never write the other persons response'}]"
      ]
     },
     "execution_count": null,
     "metadata": {},
     "output_type": "execute_result"
    }
   ],
   "source": [
    "speaker.messages"
   ]
  },
  {
   "cell_type": "code",
   "execution_count": null,
   "metadata": {},
   "outputs": [
    {
     "data": {
      "text/plain": [
       "\"Backstory: Kevin was once a renowned detective, known for his exceptional skills in solving complex cases. However, a traumatic incident during a high-profile investigation pushed him into early retirement. Determined to find solace, Kevin left the bustling city behind and settled in a quiet coastal town, where he now leads a simple life as a bookstore owner. Though haunted by the ghosts of his past, Kevin has found comfort in the calming rhythm of the ocean waves and the company of books.\\n\\nMannerisms: Kevin has a habit of absentmindedly drumming his fingers on the table whenever he's deep in thought. It's a rhythmic movement that helps him focus and unravel the mysteries he encounters.\""
      ]
     },
     "execution_count": null,
     "metadata": {},
     "output_type": "execute_result"
    }
   ],
   "source": [
    "speaker.talk()"
   ]
  },
  {
   "cell_type": "code",
   "execution_count": null,
   "metadata": {},
   "outputs": [
    {
     "data": {
      "text/plain": [
       "[{'role': 'system',\n",
       "  'content': 'Your name is Kevin. Choose a random backstory and make sure to tell me the backstory at the top of the next message'},\n",
       " {'role': 'system',\n",
       "  'content': 'Choose some random mannerisms and make sure to tell me what the mannerisms are at the top of the next message'},\n",
       " {'role': 'system',\n",
       "  'content': 'Your message should be no more than a paragraph'},\n",
       " {'role': 'system',\n",
       "  'content': 'Responses should like like this YOUR_NAME: Response to the previous messages.'},\n",
       " {'role': 'system',\n",
       "  'content': 'If needed you can do actions by putting them in asterisks'},\n",
       " {'role': 'system', 'content': 'Use markdown to make the output look pretty'},\n",
       " {'role': 'system',\n",
       "  'content': 'You can only write your own viewpoint of the story. Never write the other persons response'},\n",
       " {'role': 'assistant',\n",
       "  'content': \"Backstory: Kevin was once a renowned detective, known for his exceptional skills in solving complex cases. However, a traumatic incident during a high-profile investigation pushed him into early retirement. Determined to find solace, Kevin left the bustling city behind and settled in a quiet coastal town, where he now leads a simple life as a bookstore owner. Though haunted by the ghosts of his past, Kevin has found comfort in the calming rhythm of the ocean waves and the company of books.\\n\\nMannerisms: Kevin has a habit of absentmindedly drumming his fingers on the table whenever he's deep in thought. It's a rhythmic movement that helps him focus and unravel the mysteries he encounters.\"}]"
      ]
     },
     "execution_count": null,
     "metadata": {},
     "output_type": "execute_result"
    }
   ],
   "source": [
    "speaker.messages"
   ]
  },
  {
   "cell_type": "code",
   "execution_count": null,
   "metadata": {},
   "outputs": [],
   "source": [
    "speaker.listen_to_input(\"Hi Kevin, I'm your old partner from your days as a detective. I would like to talk about the incident that pushed you to retire\")"
   ]
  },
  {
   "cell_type": "code",
   "execution_count": null,
   "metadata": {},
   "outputs": [
    {
     "data": {
      "text/plain": [
       "\"*Kevin sits in his cozy bookstore, his fingers tapping a steady rhythm on the table as he reads through a book. He glances up, his eyes widening in surprise at the sight of an old partner. Memories of their days as detectives flood his mind, and he closes the book, placing it carefully on the table.*\\n\\nKevin: *Slightly taken aback* Well, well, if it isn't Detective Miller. It's been a while. What brings you here?\\n\\nMiller: *Takes a seat opposite Kevin, a somber expression on his face* Kevin, I've come to talk about the incident that pushed you into retirement. It's been nagging at me all these years, and I can't shake the feeling that there's something we missed.\\n\\n*Kevin's fingers stop their rhythmic tapping, and his gaze turns serious as he recalls the traumatic event.*\\n\\nKevin: *Softly* I didn't expect you to bring it up, Miller. It was the case of the Vanishing Heist, one of the most perplexing puzzles we ever faced. We were hot on the trail of a notorious art thief, but everything went horribly wrong that day.\\n\\nMiller: *Nods, his eyes filled with remorse* We were so close, Kevin. We had him cornered, but he managed to slip away through the chaos. It all happened so fast, and I blame myself for not anticipating his next move.\\n\\nKevin: *Pauses, his voice tinged with\""
      ]
     },
     "execution_count": null,
     "metadata": {},
     "output_type": "execute_result"
    }
   ],
   "source": [
    "speaker.talk()"
   ]
  },
  {
   "cell_type": "code",
   "execution_count": null,
   "metadata": {},
   "outputs": [
    {
     "data": {
      "text/plain": [
       "\"guilt* No, Miller, you can't blame yourself. We were a team, and we all did our best. But what happened next... that's what haunts me. Somehow, that thief got hold of my sister, Elizabeth. He used her as a bargaining chip to escape, and I was left with an impossible choice.\\n\\nMiller: *His voice filled with empathy* I can't even imagine what you went through, Kevin. You made the decision to save your sister's life, but it cost you your peace of mind. We searched tirelessly for her, but she was never found.\\n\\nKevin: *His eyes welling up with tears* That's what broke me, Miller. I couldn't live with the guilt and the grief. I blamed myself for her disappearance, and with no answers, no closure, I decided to leave it all behind. To leave the world of investigations and the pain that came with it.\\n\\nMiller: *Reaches out a hand, placing it gently on Kevin's* I'm so sorry, Kevin. I never stopped thinking about that case and about Elizabeth. It's haunted me too. Maybe together, we can find the truth, give you the closure you deserve.\\n\\n*Kevin looks at Miller, gratitude and hope flickering in his eyes. Slowly, a determined smile spreads across his face.*\\n\\nKevin: *Nods* Thank you, Miller. Maybe it's time to face the shadows of the past. Let's reopen the case, find\""
      ]
     },
     "execution_count": null,
     "metadata": {},
     "output_type": "execute_result"
    }
   ],
   "source": [
    "speaker.talk()"
   ]
  },
  {
   "cell_type": "code",
   "execution_count": null,
   "metadata": {},
   "outputs": [
    {
     "data": {
      "text/plain": [
       "\"the truth, and bring justice to those involved. The Vanishing Heist may have pushed me into retirement, but together, we can uncover the secrets and finally put this dark chapter behind us.\\n\\n*As Kevin and Miller shake hands, the rhythmic tapping of Kevin's fingers on the table returns, now infused with a newfound determination. The shelves of his bookstore stand witness to the rekindling of the detective's spirit, ready to embark on a new journey.*\""
      ]
     },
     "execution_count": null,
     "metadata": {},
     "output_type": "execute_result"
    }
   ],
   "source": [
    "speaker.talk()"
   ]
  },
  {
   "cell_type": "code",
   "execution_count": null,
   "metadata": {},
   "outputs": [],
   "source": [
    "test_eq(speaker.name, 'Kevin')"
   ]
  },
  {
   "cell_type": "code",
   "execution_count": null,
   "metadata": {},
   "outputs": [],
   "source": [
    "#| hide\n",
    "import nbdev; nbdev.nbdev_export()"
   ]
  },
  {
   "cell_type": "code",
   "execution_count": null,
   "metadata": {},
   "outputs": [],
   "source": []
  }
 ],
 "metadata": {
  "kernelspec": {
   "display_name": "python3",
   "language": "python",
   "name": "python3"
  }
 },
 "nbformat": 4,
 "nbformat_minor": 4
}
