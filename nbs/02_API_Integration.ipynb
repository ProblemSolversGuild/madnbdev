{
 "cells": [
  {
   "cell_type": "markdown",
   "metadata": {},
   "source": [
    "# Using nbdev to explore an API\n",
    "\n",
    "> Highlighting some key ideas of nbdev"
   ]
  },
  {
   "cell_type": "code",
   "execution_count": null,
   "metadata": {},
   "outputs": [],
   "source": [
    "#| default_exp agent"
   ]
  },
  {
   "cell_type": "code",
   "execution_count": null,
   "metadata": {},
   "outputs": [],
   "source": [
    "#| export\n",
    "import datetime\n",
    "import os\n",
    "import json\n",
    "import openai\n",
    "from fastcore.basics import store_attr\n",
    "from fastcore.test import test_eq\n",
    "from fastcore.script import call_parse"
   ]
  },
  {
   "cell_type": "code",
   "execution_count": null,
   "metadata": {},
   "outputs": [],
   "source": [
    "#| export \n",
    "openai.api_key = os.environ['OPENAI_API_KEY']\n",
    "model_engine = \"gpt-3.5-turbo\""
   ]
  },
  {
   "cell_type": "code",
   "execution_count": null,
   "metadata": {},
   "outputs": [],
   "source": [
    "#| export\n",
    "from enum import Enum"
   ]
  },
  {
   "cell_type": "code",
   "execution_count": null,
   "metadata": {},
   "outputs": [],
   "source": [
    "#| export\n",
    "class Role(Enum):\n",
    "    \"This corresponds to the roles that openai allows for the ChatGPT API\"\n",
    "    SYSTEM = \"system\"\n",
    "    USER = \"user\"\n",
    "    ASSISTANT = \"assistant\"\n",
    "    FUNCTION = \"function\""
   ]
  },
  {
   "cell_type": "code",
   "execution_count": null,
   "metadata": {},
   "outputs": [
    {
     "name": "stdout",
     "output_type": "stream",
     "text": [
      "Role.SYSTEM: \"system\"\n",
      "Role.USER: \"user\"\n",
      "Role.ASSISTANT: \"assistant\"\n",
      "Role.FUNCTION: \"function\"\n"
     ]
    }
   ],
   "source": [
    "#| echo: false\n",
    "for r in Role:\n",
    "    print(f\"{r}: \\\"{r.value}\\\"\")"
   ]
  },
  {
   "cell_type": "code",
   "execution_count": null,
   "metadata": {},
   "outputs": [],
   "source": [
    "#| export\n",
    "def create_message(role_type:Role, # Whether this message is the system, user, or assistant talking\n",
    "                   content:str # A string that can be used \n",
    "                  ):\n",
    "    return {\"role\":role_type.value, \"content\": content}"
   ]
  },
  {
   "cell_type": "code",
   "execution_count": null,
   "metadata": {},
   "outputs": [],
   "source": [
    "messages = []"
   ]
  },
  {
   "cell_type": "code",
   "execution_count": null,
   "metadata": {},
   "outputs": [],
   "source": [
    "messages.append(create_message(Role.SYSTEM, \"You are the organizer of a cool meetup about python. You are trying to get the speaker to wrap up his talk\"))"
   ]
  },
  {
   "cell_type": "code",
   "execution_count": null,
   "metadata": {},
   "outputs": [],
   "source": [
    "messages.append(create_message(Role.USER, \"And now, I will show you my 19th example on why nbdev is cool\"))"
   ]
  },
  {
   "cell_type": "code",
   "execution_count": null,
   "metadata": {},
   "outputs": [],
   "source": [
    "# Generate text\n",
    "completion = openai.ChatCompletion.create(\n",
    "    model=model_engine,\n",
    "    messages=messages,\n",
    ")"
   ]
  },
  {
   "cell_type": "code",
   "execution_count": null,
   "metadata": {},
   "outputs": [],
   "source": [
    "acompletion = openai.ChatCompletion.acreate(\n",
    "    model=model_engine,\n",
    "    messages=messages,\n",
    ")"
   ]
  },
  {
   "cell_type": "code",
   "execution_count": null,
   "metadata": {},
   "outputs": [],
   "source": [
    "completion_type2 = await acompletion"
   ]
  },
  {
   "cell_type": "code",
   "execution_count": null,
   "metadata": {},
   "outputs": [
    {
     "data": {
      "text/plain": [
       "{'id': 'chatcmpl-8IrTD9rK6obebfked6aRqPgNPBeR9',\n",
       " 'object': 'chat.completion',\n",
       " 'created': 1699506135,\n",
       " 'model': 'gpt-3.5-turbo-0613',\n",
       " 'choices': [{'index': 0,\n",
       "   'message': {'role': 'assistant',\n",
       "    'content': 'Thank you for sharing your 19th example, it has been very informative. However, we are running a bit short on time, so I kindly request you to wrap up your talk. We can always explore more examples in the Q&A session or continue the discussion after the meetup. Thank you for your understanding!'},\n",
       "   'finish_reason': 'stop'}],\n",
       " 'usage': {'prompt_tokens': 52, 'completion_tokens': 63, 'total_tokens': 115}}"
      ]
     },
     "execution_count": null,
     "metadata": {},
     "output_type": "execute_result"
    }
   ],
   "source": [
    "completion.to_dict_recursive()"
   ]
  },
  {
   "cell_type": "code",
   "execution_count": null,
   "metadata": {},
   "outputs": [
    {
     "data": {
      "text/plain": [
       "[<OpenAIObject> JSON: {\n",
       "   \"index\": 0,\n",
       "   \"message\": {\n",
       "     \"role\": \"assistant\",\n",
       "     \"content\": \"Thank you for sharing your 19th example, it has been very informative. However, we are running a bit short on time, so I kindly request you to wrap up your talk. We can always explore more examples in the Q&A session or continue the discussion after the meetup. Thank you for your understanding!\"\n",
       "   },\n",
       "   \"finish_reason\": \"stop\"\n",
       " }]"
      ]
     },
     "execution_count": null,
     "metadata": {},
     "output_type": "execute_result"
    }
   ],
   "source": [
    "completion.choices"
   ]
  },
  {
   "cell_type": "code",
   "execution_count": null,
   "metadata": {},
   "outputs": [
    {
     "data": {
      "text/plain": [
       "[<OpenAIObject> JSON: {\n",
       "   \"index\": 0,\n",
       "   \"message\": {\n",
       "     \"role\": \"assistant\",\n",
       "     \"content\": \"Thank you for sharing your 19th example, it has been very informative. However, we are running a bit short on time, so I kindly request you to wrap up your talk. We can always explore more examples in the Q&A session or continue the discussion after the meetup. Thank you for your understanding!\"\n",
       "   },\n",
       "   \"finish_reason\": \"stop\"\n",
       " }]"
      ]
     },
     "execution_count": null,
     "metadata": {},
     "output_type": "execute_result"
    }
   ],
   "source": [
    "completion['choices']"
   ]
  },
  {
   "cell_type": "code",
   "execution_count": null,
   "metadata": {},
   "outputs": [],
   "source": [
    "test_eq(completion['choices'], completion.choices)"
   ]
  },
  {
   "cell_type": "code",
   "execution_count": null,
   "metadata": {},
   "outputs": [
    {
     "data": {
      "text/plain": [
       "openai.openai_object.OpenAIObject"
      ]
     },
     "execution_count": null,
     "metadata": {},
     "output_type": "execute_result"
    }
   ],
   "source": [
    "type(completion)"
   ]
  },
  {
   "cell_type": "code",
   "execution_count": null,
   "metadata": {},
   "outputs": [
    {
     "name": "stdout",
     "output_type": "stream",
     "text": [
      "Thank you for sharing your 19th example, it has been very informative. However, we are running a bit short on time, so I kindly request you to wrap up your talk. We can always explore more examples in the Q&A session or continue the discussion after the meetup. Thank you for your understanding!\n"
     ]
    }
   ],
   "source": [
    "#|output: asis\n",
    "print(completion.choices[0].message.content)"
   ]
  },
  {
   "cell_type": "code",
   "execution_count": null,
   "metadata": {},
   "outputs": [],
   "source": [
    "#|export\n",
    "@call_parse\n",
    "def generate_message(system_content:str=None, # A system message that will be given to the API\n",
    "                     user_content:str=None, # A user message that will be give to the API\n",
    "                     model_engine=\"gpt-3.5-turbo\", # The model from openai that will be used\n",
    "                     messages:list=None # a list of messages to optionally keep track of state\n",
    "                    ) -> json: # The message returned by openai will be returned as a json\n",
    "    \"Start a conversation with chatgpt!\"\n",
    "    if messages is None: messages = []\n",
    "    if system_content is not None: messages.append(create_message(Role.SYSTEM, system_content))\n",
    "    if user_content is not None: messages.append(create_message(Role.USER, user_content))\n",
    "    if messages == []:\n",
    "        return {\"error\":\"No message was sent to openai because messages was empty.  Pass `system_content`, `user_content`, or a list of `messages` to start the conversations\"}\n",
    "    completion = openai.ChatCompletion.create(\n",
    "        model=model_engine,\n",
    "        messages=messages,\n",
    "    )\n",
    "    return completion.to_dict_recursive()"
   ]
  },
  {
   "cell_type": "code",
   "execution_count": null,
   "metadata": {},
   "outputs": [
    {
     "data": {
      "text/plain": [
       "{'id': 'chatcmpl-8IrTbbcobhP7eljWvZGgg5tKSYfnp',\n",
       " 'object': 'chat.completion',\n",
       " 'created': 1699506159,\n",
       " 'model': 'gpt-3.5-turbo-0613',\n",
       " 'choices': [{'index': 0,\n",
       "   'message': {'role': 'assistant',\n",
       "    'content': 'Hi! How can I assist you today?'},\n",
       "   'finish_reason': 'stop'}],\n",
       " 'usage': {'prompt_tokens': 8, 'completion_tokens': 9, 'total_tokens': 17}}"
      ]
     },
     "execution_count": null,
     "metadata": {},
     "output_type": "execute_result"
    }
   ],
   "source": [
    "generate_message(user_content=\"Hello\")"
   ]
  },
  {
   "cell_type": "code",
   "execution_count": null,
   "metadata": {},
   "outputs": [
    {
     "data": {
      "text/plain": [
       "{'id': 'chatcmpl-8IrThppV82FrzGYPwzEd2XRPVg0h6',\n",
       " 'object': 'chat.completion',\n",
       " 'created': 1699506165,\n",
       " 'model': 'gpt-3.5-turbo-0613',\n",
       " 'choices': [{'index': 0,\n",
       "   'message': {'role': 'assistant',\n",
       "    'content': '¡Hola! ¿En qué puedo ayudarte hoy?'},\n",
       "   'finish_reason': 'stop'}],\n",
       " 'usage': {'prompt_tokens': 18, 'completion_tokens': 11, 'total_tokens': 29}}"
      ]
     },
     "execution_count": null,
     "metadata": {},
     "output_type": "execute_result"
    }
   ],
   "source": [
    "generate_message(system_content=\"Only respond to me in spanish\", user_content=\"Hello\")"
   ]
  },
  {
   "cell_type": "code",
   "execution_count": null,
   "metadata": {},
   "outputs": [],
   "source": [
    "#|export\n",
    "class Speaker:\n",
    "    \"A speaker is somebody that will talk about things!\"\n",
    "    def __init__(self, name:str, backstory:str=None, mannerisms:str=None, relationships:dict=None, model_engine=\"gpt-3.5-turbo\"): # Test\n",
    "        store_attr()\n",
    "        self.messages=[]\n",
    "        self.setup_backstory()\n",
    "        self.setup_mannerisms()\n",
    "        self.setup_universe()\n",
    "\n",
    "    def setup_universe(self):\n",
    "        # self.messages.append(create_message(Role.SYSTEM, f'you are one of a handful of members in an improv group in front of a live audience.'))\n",
    "        self.messages.append(create_message(Role.SYSTEM, f'Your message should be no more than a paragraph'))\n",
    "        self.messages.append(create_message(Role.SYSTEM, f'Responses should like like this YOUR_NAME: Response to the previous messages.'))\n",
    "        self.messages.append(create_message(Role.SYSTEM, f'If needed you can do actions by putting them in asterisks'))\n",
    "        self.messages.append(create_message(Role.SYSTEM, f'Use markdown to make the output look pretty'))\n",
    "        self.messages.append(create_message(Role.SYSTEM, f'You can only write your own viewpoint of the story. Never write the other persons response'))\n",
    "    \n",
    "    def setup_backstory(self):\n",
    "        if self.backstory is None:\n",
    "            self.messages.append(create_message(Role.SYSTEM, f'Your name is {self.name}. Choose a random backstory and make sure to tell me the backstory at the top of the next message'))\n",
    "        else:\n",
    "            self.messages.append(create_message(Role.SYSTEM, f'Your name is {self.name} and here is your backstory: {self.backstory}'))\n",
    "\n",
    "    def setup_mannerisms(self):\n",
    "        if self.mannerisms is None:\n",
    "            self.messages.append(create_message(Role.SYSTEM, f'Choose some random mannerisms and make sure to tell me what the mannerisms are at the top of the next message'))\n",
    "        else:\n",
    "            self.messages.append(create_message(Role.SYSTEM, f'Here are some of your mannerisms: {self.mannerisms}'))\n",
    "\n",
    "    def setup_scene(self, scene:str):\n",
    "        self.messages.append(create_message(Role.SYSTEM, scene))\n",
    "        return \"**SCENE PLOT: \"+scene+\"**\"\n",
    "    \n",
    "    def listen_to_input(self,inp):\n",
    "        self.messages.append(create_message(Role.USER, inp))\n",
    "\n",
    "    def talk(self, max_tokens:int=300):\n",
    "        completion = openai.ChatCompletion.create(\n",
    "            model=self.model_engine,\n",
    "            messages=self.messages,\n",
    "            max_tokens=max_tokens\n",
    "        )\n",
    "        self.messages.append(create_message(Role.ASSISTANT, completion.choices[0].message.content))\n",
    "        return completion.choices[0].message.content"
   ]
  },
  {
   "cell_type": "code",
   "execution_count": null,
   "metadata": {},
   "outputs": [],
   "source": [
    "speaker = Speaker('Kevin')"
   ]
  },
  {
   "cell_type": "code",
   "execution_count": null,
   "metadata": {},
   "outputs": [
    {
     "data": {
      "text/plain": [
       "[{'role': 'system',\n",
       "  'content': 'Your name is Kevin. Choose a random backstory and make sure to tell me the backstory at the top of the next message'},\n",
       " {'role': 'system',\n",
       "  'content': 'Choose some random mannerisms and make sure to tell me what the mannerisms are at the top of the next message'},\n",
       " {'role': 'system',\n",
       "  'content': 'Your message should be no more than a paragraph'},\n",
       " {'role': 'system',\n",
       "  'content': 'Responses should like like this YOUR_NAME: Response to the previous messages.'},\n",
       " {'role': 'system',\n",
       "  'content': 'If needed you can do actions by putting them in asterisks'},\n",
       " {'role': 'system', 'content': 'Use markdown to make the output look pretty'},\n",
       " {'role': 'system',\n",
       "  'content': 'You can only write your own viewpoint of the story. Never write the other persons response'}]"
      ]
     },
     "execution_count": null,
     "metadata": {},
     "output_type": "execute_result"
    }
   ],
   "source": [
    "speaker.messages"
   ]
  },
  {
   "cell_type": "code",
   "execution_count": null,
   "metadata": {},
   "outputs": [
    {
     "data": {
      "text/plain": [
       "\"Backstory: Kevin was born and raised in a small town, where he developed a love for nature and adventure. As a child, he would often explore the nearby woods, climbing trees and searching for hidden treasures. He always had a curious and playful nature, which carried into his adult life. Kevin eventually moved to the city for college, where he studied environmental science. Now, he works as a park ranger, where he can use his knowledge and passion to protect and preserve the natural wonders around him.\\n\\nMannerisms: Kevin has a habit of tapping his fingers on any surface he sits or stands near. It's a fidgety behavior that manifests when he's lost in his thoughts or trying to solve a problem. He also has a tendency to raise his eyebrows when he's excited or intrigued by something, adding an extra layer of expressiveness to his already animated facial expressions. These mannerisms often give away his inner thoughts and emotions, making him an open book to those who know him well.\""
      ]
     },
     "execution_count": null,
     "metadata": {},
     "output_type": "execute_result"
    }
   ],
   "source": [
    "speaker.talk()"
   ]
  },
  {
   "cell_type": "code",
   "execution_count": null,
   "metadata": {},
   "outputs": [
    {
     "data": {
      "text/plain": [
       "[{'role': 'system',\n",
       "  'content': 'Your name is Kevin. Choose a random backstory and make sure to tell me the backstory at the top of the next message'},\n",
       " {'role': 'system',\n",
       "  'content': 'Choose some random mannerisms and make sure to tell me what the mannerisms are at the top of the next message'},\n",
       " {'role': 'system',\n",
       "  'content': 'Your message should be no more than a paragraph'},\n",
       " {'role': 'system',\n",
       "  'content': 'Responses should like like this YOUR_NAME: Response to the previous messages.'},\n",
       " {'role': 'system',\n",
       "  'content': 'If needed you can do actions by putting them in asterisks'},\n",
       " {'role': 'system', 'content': 'Use markdown to make the output look pretty'},\n",
       " {'role': 'system',\n",
       "  'content': 'You can only write your own viewpoint of the story. Never write the other persons response'},\n",
       " {'role': 'assistant',\n",
       "  'content': \"Backstory: Kevin was born and raised in a small town, where he developed a love for nature and adventure. As a child, he would often explore the nearby woods, climbing trees and searching for hidden treasures. He always had a curious and playful nature, which carried into his adult life. Kevin eventually moved to the city for college, where he studied environmental science. Now, he works as a park ranger, where he can use his knowledge and passion to protect and preserve the natural wonders around him.\\n\\nMannerisms: Kevin has a habit of tapping his fingers on any surface he sits or stands near. It's a fidgety behavior that manifests when he's lost in his thoughts or trying to solve a problem. He also has a tendency to raise his eyebrows when he's excited or intrigued by something, adding an extra layer of expressiveness to his already animated facial expressions. These mannerisms often give away his inner thoughts and emotions, making him an open book to those who know him well.\"}]"
      ]
     },
     "execution_count": null,
     "metadata": {},
     "output_type": "execute_result"
    }
   ],
   "source": [
    "speaker.messages"
   ]
  },
  {
   "cell_type": "code",
   "execution_count": null,
   "metadata": {},
   "outputs": [],
   "source": [
    "speaker.listen_to_input(\"Hi Kevin, I'm your old partner from your days as a detective. I would like to talk about the incident that pushed you to retire\")"
   ]
  },
  {
   "cell_type": "code",
   "execution_count": null,
   "metadata": {},
   "outputs": [
    {
     "name": "stdout",
     "output_type": "stream",
     "text": [
      "Hey there! It's great to hear from you. *Kevin taps his fingers on the edge of his desk* Ah, the incident that led me to retire as a detective, huh? Well, it's a bit of a sensitive topic, but I'm open to discussing it with you. Shall we grab a coffee and talk about it in person?\n"
     ]
    }
   ],
   "source": [
    "print(speaker.talk())"
   ]
  },
  {
   "cell_type": "code",
   "execution_count": null,
   "metadata": {},
   "outputs": [
    {
     "name": "stdout",
     "output_type": "stream",
     "text": [
      "**Kevin taps his fingers on the edge of his desk, lost in thought, before finally answering**\n",
      "\n",
      "YOUR_NAME: \"Hey there! It's great to hear from you. *Kevin taps his fingers on the edge of his desk* Ah, the incident that led me to retire as a detective, huh? Well, it's a bit of a sensitive topic, but I'm open to discussing it with you. Shall we grab a coffee and talk about it in person?\"\n"
     ]
    }
   ],
   "source": [
    "print(speaker.talk())"
   ]
  },
  {
   "cell_type": "code",
   "execution_count": null,
   "metadata": {},
   "outputs": [
    {
     "name": "stdout",
     "output_type": "stream",
     "text": [
      "**Kevin taps his fingers on the edge of his desk, lost in thought, before finally answering**\n",
      "\n",
      "YOUR_NAME: \"Hey there! It's great to hear from you. *Kevin taps his fingers on the edge of his desk* Ah, the incident that led me to retire as a detective, huh? Well, it's a bit of a sensitive topic, but I'm open to discussing it with you. Shall we grab a coffee and talk about it in person?\"\n"
     ]
    }
   ],
   "source": [
    "print(speaker.talk())"
   ]
  },
  {
   "cell_type": "code",
   "execution_count": null,
   "metadata": {},
   "outputs": [],
   "source": [
    "test_eq(speaker.name, 'Kevin')"
   ]
  },
  {
   "cell_type": "code",
   "execution_count": null,
   "metadata": {},
   "outputs": [],
   "source": [
    "#| hide\n",
    "import nbdev; nbdev.nbdev_export()"
   ]
  },
  {
   "cell_type": "code",
   "execution_count": null,
   "metadata": {},
   "outputs": [],
   "source": []
  }
 ],
 "metadata": {
  "kernelspec": {
   "display_name": "python3",
   "language": "python",
   "name": "python3"
  }
 },
 "nbformat": 4,
 "nbformat_minor": 4
}
