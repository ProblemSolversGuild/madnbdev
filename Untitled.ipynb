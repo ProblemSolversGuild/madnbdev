{
 "cells": [
  {
   "cell_type": "code",
   "execution_count": 1,
   "id": "48bba658-0bc6-4a69-9ff9-449302fe2b26",
   "metadata": {},
   "outputs": [],
   "source": [
    "import nbdev"
   ]
  },
  {
   "cell_type": "code",
   "execution_count": 2,
   "id": "1eb7b725-7888-407d-b4cc-58bbb480c0e5",
   "metadata": {},
   "outputs": [
    {
     "data": {
      "text/plain": [
       "'2.3.12'"
      ]
     },
     "execution_count": 2,
     "metadata": {},
     "output_type": "execute_result"
    }
   ],
   "source": [
    "nbdev.__version__"
   ]
  },
  {
   "cell_type": "code",
   "execution_count": null,
   "id": "8c29f505-72e4-49e7-afa9-5d496ea53b77",
   "metadata": {},
   "outputs": [],
   "source": []
  }
 ],
 "metadata": {
  "kernelspec": {
   "display_name": "Python 3 (ipykernel)",
   "language": "python",
   "name": "python3"
  },
  "language_info": {
   "codemirror_mode": {
    "name": "ipython",
    "version": 3
   },
   "file_extension": ".py",
   "mimetype": "text/x-python",
   "name": "python",
   "nbconvert_exporter": "python",
   "pygments_lexer": "ipython3",
   "version": "3.11.4"
  }
 },
 "nbformat": 4,
 "nbformat_minor": 5
}
